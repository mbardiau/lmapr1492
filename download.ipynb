{
 "cells": [
  {
   "cell_type": "code",
   "execution_count": 8,
   "id": "little-smooth",
   "metadata": {},
   "outputs": [],
   "source": [
    "from pymatgen import MPRester\n",
    "from pymatgen.io.cif import CifWriter\n",
    "from jupyter_jsmol.pymatgen import quick_view"
   ]
  },
  {
   "cell_type": "code",
   "execution_count": 9,
   "id": "hearing-thomson",
   "metadata": {},
   "outputs": [
    {
     "data": {
      "application/vnd.jupyter.widget-view+json": {
       "model_id": "61fd24c70550425d8ddd9d5430dc623d",
       "version_major": 2,
       "version_minor": 0
      },
      "text/plain": [
       "JsmolView(layout=Layout(align_self='stretch', height='400px'))"
      ]
     },
     "metadata": {},
     "output_type": "display_data"
    },
    {
     "name": "stdout",
     "output_type": "stream",
     "text": [
      "Full Formula (Na1 In1 S2)\n",
      "Reduced Formula: NaInS2\n",
      "abc   :   7.062406   7.062406   7.062406\n",
      "angles:  31.702878  31.702878  31.702881\n",
      "Sites (4)\n",
      "  #  SP           a         b         c    magmom\n",
      "---  ----  --------  --------  --------  --------\n",
      "  0  Na    0.5       0.5       0.5             -0\n",
      "  1  In    0         0         0               -0\n",
      "  2  S     0.740033  0.740033  0.740033        -0\n",
      "  3  S     0.259967  0.259967  0.259967        -0\n"
     ]
    }
   ],
   "source": [
    "structure = MPRester(\"KGkLFN8rUMTD0Z1V\").get_structure_by_material_id(\"mp-20289\")\n",
    "view = quick_view(structure, \"packed\", supercell = [1,1,1])\n",
    "display(view)\n",
    "print(structure)\n",
    "file = CifWriter(structure,0.1)\n",
    "file.write_file(\"download.cif\")"
   ]
  }
 ],
 "metadata": {
  "kernelspec": {
   "display_name": "Python 3",
   "language": "python",
   "name": "python3"
  },
  "language_info": {
   "codemirror_mode": {
    "name": "ipython",
    "version": 3
   },
   "file_extension": ".py",
   "mimetype": "text/x-python",
   "name": "python",
   "nbconvert_exporter": "python",
   "pygments_lexer": "ipython3",
   "version": "3.6.8"
  }
 },
 "nbformat": 4,
 "nbformat_minor": 5
}
