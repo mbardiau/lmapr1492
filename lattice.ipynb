{
 "cells": [
  {
   "cell_type": "code",
   "execution_count": 78,
   "id": "general-provincial",
   "metadata": {},
   "outputs": [],
   "source": [
    "from pymatgen import MPRester\n",
    "from pymatgen.io.cif import CifWriter\n",
    "from pymatgen.symmetry.analyzer import SpacegroupAnalyzer\n",
    "from jupyter_jsmol.pymatgen import quick_view"
   ]
  },
  {
   "cell_type": "code",
   "execution_count": 79,
   "id": "included-representation",
   "metadata": {},
   "outputs": [],
   "source": [
    "#téléchargement de la structure\n",
    "structure = MPRester(\"KGkLFN8rUMTD0Z1V\").get_structure_by_material_id(\"mp-20289\")\n",
    "file = CifWriter(structure,0.1)\n",
    "file.write_file(\"download.cif\")"
   ]
  },
  {
   "cell_type": "code",
   "execution_count": 80,
   "id": "potential-drive",
   "metadata": {},
   "outputs": [
    {
     "data": {
      "application/vnd.jupyter.widget-view+json": {
       "model_id": "d27ed32aafd54122b1fdea68f2107434",
       "version_major": 2,
       "version_minor": 0
      },
      "text/plain": [
       "JsmolView(layout=Layout(align_self='stretch', height='400px'))"
      ]
     },
     "metadata": {},
     "output_type": "display_data"
    }
   ],
   "source": [
    "#visualisation de la structure\n",
    "view = quick_view(structure, \"packed\", supercell = [1,1,1])\n",
    "display(view)"
   ]
  },
  {
   "cell_type": "code",
   "execution_count": 81,
   "id": "retained-graduate",
   "metadata": {},
   "outputs": [
    {
     "name": "stdout",
     "output_type": "stream",
     "text": [
      "Les vecteurs du réseau direct dans un repère orthonormé sont :\n",
      "\n",
      "6.793845 -1.929054 0.000000\n",
      "6.793845 1.929054 0.000000\n",
      "6.246107 0.000000 3.296017\n"
     ]
    }
   ],
   "source": [
    "#vecteurs du réseau direct\n",
    "direct_vectors = structure.lattice\n",
    "print(\"Les vecteurs du réseau direct dans un repère orthonormé sont :\\n\")\n",
    "print(direct_vectors)"
   ]
  },
  {
   "cell_type": "code",
   "execution_count": 82,
   "id": "forward-newton",
   "metadata": {},
   "outputs": [
    {
     "name": "stdout",
     "output_type": "stream",
     "text": [
      "Les vecteurs du réseau réciproque dans un repère orthonormé sont :\n",
      "\n",
      "0.462417 -1.628566 -0.876303\n",
      "0.462417 1.628566 -0.876303\n",
      "0.000000 0.000000 1.906296\n"
     ]
    }
   ],
   "source": [
    "#vecteurs du réseau réciproque\n",
    "reciprocal_vectors = structure.lattice.reciprocal_lattice\n",
    "print(\"Les vecteurs du réseau réciproque dans un repère orthonormé sont :\\n\")\n",
    "print(reciprocal_vectors)"
   ]
  },
  {
   "cell_type": "code",
   "execution_count": 83,
   "id": "studied-security",
   "metadata": {},
   "outputs": [
    {
     "name": "stdout",
     "output_type": "stream",
     "text": [
      "Le système cristallin est trigonal\n",
      "\n",
      "La maille est rombohédrique\n",
      "\n",
      "Le groupe ponctuel est -3m\n",
      "\n"
     ]
    }
   ],
   "source": [
    "#Systeme cristallin, maille et groupe ponctuel\n",
    "NaInS2 = SpacegroupAnalyzer(structure)\n",
    "print(\"Le système cristallin est {}\\n\".format(NaInS2.get_crystal_system()))\n",
    "#print(\"La maille est {}\\n\".format(NaInS2.get_lattice_type()))\n",
    "print(\"La maille est rombohédrique\\n\")\n",
    "print(\"Le groupe ponctuel est {}\\n\".format(NaInS2.get_point_group_symbol()))"
   ]
  },
  {
   "cell_type": "code",
   "execution_count": null,
   "id": "qualified-kazakhstan",
   "metadata": {},
   "outputs": [],
   "source": []
  }
 ],
 "metadata": {
  "kernelspec": {
   "display_name": "Python 3",
   "language": "python",
   "name": "python3"
  },
  "language_info": {
   "codemirror_mode": {
    "name": "ipython",
    "version": 3
   },
   "file_extension": ".py",
   "mimetype": "text/x-python",
   "name": "python",
   "nbconvert_exporter": "python",
   "pygments_lexer": "ipython3",
   "version": "3.6.8"
  }
 },
 "nbformat": 4,
 "nbformat_minor": 5
}
