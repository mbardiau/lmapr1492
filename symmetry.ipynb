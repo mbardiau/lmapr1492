{
 "cells": [
  {
   "cell_type": "code",
   "execution_count": 36,
   "id": "spread-brain",
   "metadata": {},
   "outputs": [],
   "source": [
    "#Maxime Bardiau\n",
    "#Tâche 6"
   ]
  },
  {
   "cell_type": "code",
   "execution_count": 37,
   "id": "miniature-mills",
   "metadata": {},
   "outputs": [],
   "source": [
    "from pymatgen import MPRester\n",
    "from pymatgen.io.cif import CifWriter\n",
    "from pymatgen.core.operations import *"
   ]
  },
  {
   "cell_type": "code",
   "execution_count": 38,
   "id": "tutorial-cleveland",
   "metadata": {},
   "outputs": [],
   "source": [
    "#téléchargement de la structure\n",
    "structure = MPRester(\"KGkLFN8rUMTD0Z1V\").get_structure_by_material_id(\"mp-20289\")\n",
    "file = CifWriter(structure,0.1)\n",
    "file.write_file(\"download.cif\")"
   ]
  },
  {
   "cell_type": "markdown",
   "id": "parliamentary-possession",
   "metadata": {},
   "source": [
    "<h2>Première opération de symétrie<h2>"
   ]
  },
  {
   "cell_type": "code",
   "execution_count": 39,
   "id": "muslim-zambia",
   "metadata": {},
   "outputs": [],
   "source": [
    "#2ème opération dans le fichier cif\n",
    "sym1 = SymmOp.from_xyz_string(\"-x, -y, -z\")\n",
    "\n",
    "#Séléction d'un atome de Soufre en position (0.0, 0.0, 0.259967)\n",
    "S = [0.0, 0.0, 0.259967]\n",
    "\n",
    "#Application de l'opération de symétrie\n",
    "S_sym = sym1.operate(S)"
   ]
  },
  {
   "cell_type": "code",
   "execution_count": 40,
   "id": "medium-doctor",
   "metadata": {},
   "outputs": [],
   "source": [
    "#Affichage de l'opération\n",
    "#print(\"L'opération {} \\n\\n envoie l'atome S situé en {} vers {}\".format(sym1,S,S_sym))"
   ]
  },
  {
   "cell_type": "markdown",
   "id": "acknowledged-grammar",
   "metadata": {},
   "source": [
    "L'opération de symétrie (-x, -y, -z) peut se traduire par la matrice de rotation $$\n",
    "\\left(\\begin{array}{cc} \n",
    "-1 & 0 & 0\\\\\n",
    " 0 & -1 & 0\\\\\n",
    " 0 & 0 & -1\n",
    "\\end{array}\\right)\n",
    "$$ \n",
    "et le vecteur de translation $$\n",
    "\\left(\\begin{array}{cc} \n",
    " 0\\\\\n",
    " 0\\\\\n",
    " 0\n",
    "\\end{array}\\right)\n",
    "$$\n",
    "\n",
    "L'atome de soufre en position (0, 0, 0.259967) est envoyé en (0, 0, -0.259967).\n",
    "\n",
    "Cette opération correspond à une inverstion de centre (0, 0, 0)."
   ]
  },
  {
   "attachments": {},
   "cell_type": "markdown",
   "id": "suspended-notification",
   "metadata": {},
   "source": [
    "<img src=\"files/Sym1.PNG\">"
   ]
  },
  {
   "cell_type": "markdown",
   "id": "closing-diabetes",
   "metadata": {},
   "source": [
    "<h2>Deuxième opération de symétrie<h2>"
   ]
  },
  {
   "cell_type": "code",
   "execution_count": 41,
   "id": "aboriginal-grammar",
   "metadata": {},
   "outputs": [],
   "source": [
    "#13ème opération dans le fichier cif\n",
    "sym2 = SymmOp.from_xyz_string(\"x+2/3, y+1/3, z+1/3\")\n",
    "\n",
    "#Séléction d'un atome d'Indium en position (0.0, 0.0, 0.0)\n",
    "In = [0.0, 0.0, 0.0]\n",
    "\n",
    "#Application de l'opération de symétrie\n",
    "In_sym = sym2.operate(In)"
   ]
  },
  {
   "cell_type": "code",
   "execution_count": 42,
   "id": "statewide-fusion",
   "metadata": {},
   "outputs": [],
   "source": [
    "#Affichage de l'opération\n",
    "#print(\"L'opération {} \\n\\n envoie l'atome In situé en {} vers {}\".format(sym2,In,In_sym))"
   ]
  },
  {
   "cell_type": "markdown",
   "id": "fancy-stadium",
   "metadata": {},
   "source": [
    "L'opération de symétrie (x+2/3, y+1/3, z+1/3) peut se traduire par la matrice de rotation $$\n",
    "\\left(\\begin{array}{cc} \n",
    " 1 & 0 & 0\\\\\n",
    " 0 & 1 & 0\\\\\n",
    " 0 & 0 & 1\n",
    "\\end{array}\\right)\n",
    "$$ \n",
    "et le vecteur de translation $$\n",
    "\\left(\\begin{array}{cc} \n",
    " 2/3\\\\\n",
    " 1/3\\\\\n",
    " 1/3\n",
    "\\end{array}\\right)\n",
    "$$\n",
    "\n",
    "L'atome de soufre en position (0, 0, 0) est envoyé en (2/3, 1/3, 1/3).\n",
    "\n",
    "Cette opération correspond à une translation sans rotation."
   ]
  },
  {
   "attachments": {},
   "cell_type": "markdown",
   "id": "fifteen-jersey",
   "metadata": {},
   "source": [
    "<img src=\"files/Sym2.PNG\">"
   ]
  },
  {
   "cell_type": "markdown",
   "id": "functional-accuracy",
   "metadata": {},
   "source": [
    "Note : Sur la représentation, la translation a été effectué par un vecteur (-1/3, 1/3, 1/3) et non (2/3, 1/3, 1/3). Cela revient au même, car on peut translater l'atome obtenu par symétrie pour le ramener dans la cellule de base."
   ]
  },
  {
   "cell_type": "markdown",
   "id": "consistent-silence",
   "metadata": {},
   "source": [
    "<h2>Troisième opération de symétrie<h2>"
   ]
  },
  {
   "cell_type": "code",
   "execution_count": 43,
   "id": "marked-swedish",
   "metadata": {},
   "outputs": [],
   "source": [
    "#34ème opération dans le fichier cif\n",
    "sym3 = SymmOp.from_xyz_string(\"-x+y+1/3, y+2/3, z+2/3\")\n",
    "\n",
    "#Séléction d'un atome de Sodium en position (0.0, 0.0, 0.5)\n",
    "Na = [0.0, 0.0, 0.5]\n",
    "\n",
    "#Application de l'opération de symétrie\n",
    "Na_sym = sym3.operate(Na)"
   ]
  },
  {
   "cell_type": "code",
   "execution_count": 44,
   "id": "assumed-store",
   "metadata": {},
   "outputs": [],
   "source": [
    "#Affichage de l'opération\n",
    "#print(\"L'opération {} \\n\\n envoie l'atome Na situé en {} vers {}\".format(sym3,Na,Na_sym))"
   ]
  },
  {
   "cell_type": "markdown",
   "id": "beginning-theta",
   "metadata": {},
   "source": [
    "L'opération de symétrie (-x+y+1/3, y+2/3, z+2/3) peut se traduire par la matrice de rotation $$\n",
    "\\left(\\begin{array}{cc} \n",
    " -1 & 1 & 0\\\\\n",
    " 0 & 1 & 0\\\\\n",
    " 0 & 0 & 1\n",
    "\\end{array}\\right)\n",
    "$$ \n",
    "et le vecteur de translation $$\n",
    "\\left(\\begin{array}{cc} \n",
    " 1/3\\\\\n",
    " 2/3\\\\\n",
    " 2/3\n",
    "\\end{array}\\right)\n",
    "$$\n",
    "\n",
    "L'atome de sodium en position (0, 0, 0.5) est envoyé en (1/3, 2/3, 7/6), que l'on peut ramener sur (1/3, 2/3, 1/6).\n",
    "\n",
    "Cette opération est une symétrie par plan miroir de vecteur normal (1, 0, 0) suivi d'une translation."
   ]
  },
  {
   "attachments": {},
   "cell_type": "markdown",
   "id": "another-armstrong",
   "metadata": {},
   "source": [
    "<img src=\"files/Sym3.PNG\">"
   ]
  },
  {
   "cell_type": "code",
   "execution_count": null,
   "id": "lightweight-showcase",
   "metadata": {},
   "outputs": [],
   "source": []
  }
 ],
 "metadata": {
  "kernelspec": {
   "display_name": "Python 3",
   "language": "python",
   "name": "python3"
  },
  "language_info": {
   "codemirror_mode": {
    "name": "ipython",
    "version": 3
   },
   "file_extension": ".py",
   "mimetype": "text/x-python",
   "name": "python",
   "nbconvert_exporter": "python",
   "pygments_lexer": "ipython3",
   "version": "3.6.8"
  }
 },
 "nbformat": 4,
 "nbformat_minor": 5
}
